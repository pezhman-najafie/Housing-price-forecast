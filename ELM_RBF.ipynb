{
 "cells": [
  {
   "cell_type": "code",
   "execution_count": 1,
   "metadata": {
    "collapsed": true
   },
   "outputs": [],
   "source": [
    "import numpy as np\n",
    "from sklearn.metrics import mean_absolute_error, mean_squared_error\n",
    "from scipy.spatial.distance import cdist"
   ]
  },
  {
   "cell_type": "code",
   "execution_count": 2,
   "outputs": [],
   "source": [
    "class RBFNN:\n",
    "    def __init__(self, input_dim, hidden_dim, output_dim, num_centers):\n",
    "        self.input_dim = input_dim\n",
    "        self.hidden_dim = hidden_dim\n",
    "        self.output_dim = output_dim\n",
    "        self.num_centers = num_centers\n",
    "        self.centers = None\n",
    "        self.weights = None\n",
    "        self.beta = None\n",
    "\n",
    "    def rbf(self, X, centers, beta):\n",
    "        return np.exp(-beta * cdist(X, centers) ** 2)\n",
    "\n",
    "    def fit(self, X, y):\n",
    "        # Randomly initialize centers\n",
    "        self.centers = X[np.random.choice(X.shape[0], self.num_centers, replace=False)]\n",
    "\n",
    "        # Calculate beta\n",
    "        dist = cdist(self.centers, self.centers)\n",
    "        self.beta = 1 / (2 * np.mean(np.var(dist, axis=1)))\n",
    "\n",
    "        # Compute RBF features\n",
    "        phi = self.rbf(X, self.centers, self.beta)\n",
    "\n",
    "        # Solve for the weights (using Moore-Penrose pseudoinverse)\n",
    "        self.weights = np.linalg.pinv(phi) @ y\n",
    "\n",
    "    def predict(self, X):\n",
    "        phi = self.rbf(X, self.centers, self.beta)\n",
    "        return phi @ self.weights"
   ],
   "metadata": {
    "collapsed": false,
    "pycharm": {
     "name": "#%%\n"
    }
   }
  },
  {
   "cell_type": "code",
   "execution_count": 3,
   "outputs": [],
   "source": [
    "# Load and preprocess data\n",
    "with open(r'C:\\Users\\pezhm\\Desktop\\exe\\E.txt', 'r') as file:\n",
    "    data = file.readline().strip().split()\n",
    "\n",
    "# Convert data to a list of floats\n",
    "data = list(map(float, data))\n",
    "\n",
    "# Determine the number of samples and features\n",
    "num_samples = len(data) - 4\n",
    "num_features = 4\n",
    "\n",
    "# Create input matrix (X) and output vector (y) for ELM\n",
    "X = np.zeros((num_samples, num_features))\n",
    "y = np.zeros(num_samples)\n",
    "\n",
    "# Fill in the input matrix and output vector\n",
    "for i in range(num_samples):\n",
    "    y[i] = data[i + 4]\n",
    "    for j in range(num_features):\n",
    "        X[i, j] = data[i + j]"
   ],
   "metadata": {
    "collapsed": false,
    "pycharm": {
     "name": "#%%\n"
    }
   }
  },
  {
   "cell_type": "code",
   "execution_count": 4,
   "outputs": [
    {
     "name": "stdout",
     "output_type": "stream",
     "text": [
      "MAE: 0.125553933211735\n",
      "MSE: 0.04267882598019199\n",
      "RMSE: 0.2065885427127845\n"
     ]
    }
   ],
   "source": [
    "# Initialize and train RBF neural network\n",
    "rbfnn = RBFNN(input_dim=4, hidden_dim=200, output_dim=1, num_centers=84)\n",
    "rbfnn.fit(X, y)\n",
    "\n",
    "# Predictions\n",
    "y_pred = rbfnn.predict(X)\n",
    "\n",
    "# Evaluate performance\n",
    "mae = mean_absolute_error(y, y_pred)\n",
    "mse = mean_squared_error(y, y_pred)\n",
    "rmse = np.sqrt(mse)\n",
    "\n",
    "print(\"MAE:\", mae)\n",
    "print(\"MSE:\", mse)\n",
    "print(\"RMSE:\", rmse)"
   ],
   "metadata": {
    "collapsed": false,
    "pycharm": {
     "name": "#%%\n"
    }
   }
  },
  {
   "cell_type": "code",
   "execution_count": null,
   "outputs": [],
   "source": [],
   "metadata": {
    "collapsed": false,
    "pycharm": {
     "name": "#%%\n"
    }
   }
  }
 ],
 "metadata": {
  "kernelspec": {
   "display_name": "Python 3",
   "language": "python",
   "name": "python3"
  },
  "language_info": {
   "codemirror_mode": {
    "name": "ipython",
    "version": 2
   },
   "file_extension": ".py",
   "mimetype": "text/x-python",
   "name": "python",
   "nbconvert_exporter": "python",
   "pygments_lexer": "ipython2",
   "version": "2.7.6"
  }
 },
 "nbformat": 4,
 "nbformat_minor": 0
}